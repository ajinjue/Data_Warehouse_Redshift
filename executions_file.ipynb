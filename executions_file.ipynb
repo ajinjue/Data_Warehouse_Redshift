{
 "cells": [
  {
   "cell_type": "code",
   "execution_count": 2,
   "id": "c4760fc9",
   "metadata": {},
   "outputs": [
    {
     "name": "stdout",
     "output_type": "stream",
     "text": [
      "Successful connection to the Cluster\n",
      "log_data table created successfully\n",
      "song_data table created successfully\n",
      "users table created successfully\n",
      "songs tables created successfully\n",
      "artists table created successfully\n",
      "time table created successfully\n",
      "songplays table created successfully\n"
     ]
    },
    {
     "ename": "SyntaxError",
     "evalue": "syntax error at or near \",\"\nLINE 13: ...            FOREIGN KEY (user_id) REFERENCES users(user_id),\n                                                                       ^\n",
     "output_type": "error",
     "traceback": [
      "\u001b[1;31m---------------------------------------------------------------------------\u001b[0m",
      "\u001b[1;31mSyntaxError\u001b[0m                               Traceback (most recent call last)",
      "File \u001b[1;32mF:\\Udacity\\Data Engineering\\Course 2 - Cloud Data Warehourses\\project\\Data_Warehouse_Redshift\\create_tables.py:32\u001b[0m\n\u001b[0;32m     28\u001b[0m     conn\u001b[38;5;241m.\u001b[39mclose()\n\u001b[0;32m     31\u001b[0m \u001b[38;5;28;01mif\u001b[39;00m \u001b[38;5;18m__name__\u001b[39m \u001b[38;5;241m==\u001b[39m \u001b[38;5;124m\"\u001b[39m\u001b[38;5;124m__main__\u001b[39m\u001b[38;5;124m\"\u001b[39m:\n\u001b[1;32m---> 32\u001b[0m     \u001b[43mmain\u001b[49m\u001b[43m(\u001b[49m\u001b[43m)\u001b[49m\n",
      "File \u001b[1;32mF:\\Udacity\\Data Engineering\\Course 2 - Cloud Data Warehourses\\project\\Data_Warehouse_Redshift\\create_tables.py:26\u001b[0m, in \u001b[0;36mmain\u001b[1;34m()\u001b[0m\n\u001b[0;32m     23\u001b[0m cur \u001b[38;5;241m=\u001b[39m conn\u001b[38;5;241m.\u001b[39mcursor()\n\u001b[0;32m     25\u001b[0m drop_tables(cur, conn)\n\u001b[1;32m---> 26\u001b[0m \u001b[43mcreate_tables\u001b[49m\u001b[43m(\u001b[49m\u001b[43mcur\u001b[49m\u001b[43m,\u001b[49m\u001b[43m \u001b[49m\u001b[43mconn\u001b[49m\u001b[43m)\u001b[49m\n\u001b[0;32m     28\u001b[0m conn\u001b[38;5;241m.\u001b[39mclose()\n",
      "File \u001b[1;32mF:\\Udacity\\Data Engineering\\Course 2 - Cloud Data Warehourses\\project\\Data_Warehouse_Redshift\\create_tables.py:14\u001b[0m, in \u001b[0;36mcreate_tables\u001b[1;34m(cur, conn)\u001b[0m\n\u001b[0;32m     12\u001b[0m \u001b[38;5;28;01mdef\u001b[39;00m \u001b[38;5;21mcreate_tables\u001b[39m(cur, conn):\n\u001b[0;32m     13\u001b[0m     \u001b[38;5;28;01mfor\u001b[39;00m query \u001b[38;5;129;01min\u001b[39;00m create_table_queries:\n\u001b[1;32m---> 14\u001b[0m         \u001b[43mcur\u001b[49m\u001b[38;5;241;43m.\u001b[39;49m\u001b[43mexecute\u001b[49m\u001b[43m(\u001b[49m\u001b[43mquery\u001b[49m\u001b[43m)\u001b[49m\n\u001b[0;32m     15\u001b[0m         conn\u001b[38;5;241m.\u001b[39mcommit()\n",
      "\u001b[1;31mSyntaxError\u001b[0m: syntax error at or near \",\"\nLINE 13: ...            FOREIGN KEY (user_id) REFERENCES users(user_id),\n                                                                       ^\n"
     ]
    }
   ],
   "source": [
    "%run create_tables.py"
   ]
  },
  {
   "cell_type": "code",
   "execution_count": null,
   "id": "3f5f2bd1",
   "metadata": {},
   "outputs": [],
   "source": []
  }
 ],
 "metadata": {
  "kernelspec": {
   "display_name": "Python 3 (ipykernel)",
   "language": "python",
   "name": "python3"
  },
  "language_info": {
   "codemirror_mode": {
    "name": "ipython",
    "version": 3
   },
   "file_extension": ".py",
   "mimetype": "text/x-python",
   "name": "python",
   "nbconvert_exporter": "python",
   "pygments_lexer": "ipython3",
   "version": "3.11.0"
  }
 },
 "nbformat": 4,
 "nbformat_minor": 5
}
